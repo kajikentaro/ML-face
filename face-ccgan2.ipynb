{
 "cells": [
  {
   "cell_type": "code",
   "execution_count": 2,
   "id": "4282a3dd",
   "metadata": {},
   "outputs": [],
   "source": [
    "import dlib\n",
    "from imutils import face_utils\n",
    "import cv2\n",
    "import numpy as np"
   ]
  },
  {
   "cell_type": "code",
   "execution_count": 3,
   "id": "333e6a81",
   "metadata": {},
   "outputs": [],
   "source": [
    "img = cv2.imread(r\"C:\\Users\\aaa\\Documents\\lfw\\lfw\\Aaron_Eckhart\\Aaron_Eckhart_0001.jpg\")"
   ]
  },
  {
   "cell_type": "code",
   "execution_count": 81,
   "id": "7148a0ea",
   "metadata": {},
   "outputs": [],
   "source": [
    "class FaceEditor:\n",
    "    def __init__(self):\n",
    "        self.face_detactor = dlib.get_frontal_face_detector()\n",
    "        self.face_predictor = dlib.shape_predictor(\"shape_predictor_68_face_landmarks.dat\")\n",
    "    def face_extraction(self,img):\n",
    "        #入力画像から顔を検出し配列で返す\n",
    "        faces = self.face_detactor(img)\n",
    "        out = []\n",
    "        for face in faces:\n",
    "            print(face.top(),face.bottom(),face.left(),face.right())\n",
    "            out.append(img[face.top():face.bottom(),face.left():face.right()])\n",
    "        return out\n",
    "    def clip_mouth(self,img):\n",
    "        #顔から、口部分を塗りつぶした画像を返す\n",
    "        landmark = self.face_predictor(img, dlib.rectangle(0,0,img.shape[0],img.shape[1]))\n",
    "        return face_utils.shape_to_np(landmark)\n",
    "        \n",
    "        "
   ]
  },
  {
   "cell_type": "code",
   "execution_count": 82,
   "id": "399b9f4d",
   "metadata": {},
   "outputs": [],
   "source": [
    "img = cv2.imread(r\"C:\\Users\\aaa\\Documents\\lfw\\lfw\\Aaron_Eckhart_0001.jpg\")\n",
    "aaa = FaceEditor()"
   ]
  },
  {
   "cell_type": "code",
   "execution_count": 83,
   "id": "2cf1d30f",
   "metadata": {},
   "outputs": [
    {
     "name": "stdout",
     "output_type": "stream",
     "text": [
      "89 192 77 181\n"
     ]
    }
   ],
   "source": [
    "test = aaa.face_extraction(img)"
   ]
  },
  {
   "cell_type": "code",
   "execution_count": 87,
   "id": "088a0371",
   "metadata": {},
   "outputs": [
    {
     "ename": "SyntaxError",
     "evalue": "invalid syntax (<ipython-input-87-afccb73ec1bd>, line 2)",
     "output_type": "error",
     "traceback": [
      "\u001b[1;36m  File \u001b[1;32m\"<ipython-input-87-afccb73ec1bd>\"\u001b[1;36m, line \u001b[1;32m2\u001b[0m\n\u001b[1;33m    mask_idx = [3,51,52,53,15,14,13:3]\u001b[0m\n\u001b[1;37m                                   ^\u001b[0m\n\u001b[1;31mSyntaxError\u001b[0m\u001b[1;31m:\u001b[0m invalid syntax\n"
     ]
    }
   ],
   "source": [
    "land = aaa.clip_mouth(test[0])\n",
    "mask_idx = [3,51,52,53,15,14,13:3]\n",
    "#mask_points = np.array([land[3],land[]])"
   ]
  },
  {
   "cell_type": "code",
   "execution_count": 99,
   "id": "cc50fc2a",
   "metadata": {},
   "outputs": [
    {
     "data": {
      "text/plain": [
       "[range(13, 3, -1), 3]"
      ]
     },
     "execution_count": 99,
     "metadata": {},
     "output_type": "execute_result"
    }
   ],
   "source": [
    "[range(13,3,-1),3]"
   ]
  },
  {
   "cell_type": "code",
   "execution_count": 51,
   "id": "c94883de",
   "metadata": {},
   "outputs": [],
   "source": [
    "cv2.imshow('tmp',test[0])\n",
    "cv2.waitKey(0)\n",
    "cv2.destroyAllWindows()"
   ]
  },
  {
   "cell_type": "code",
   "execution_count": 52,
   "id": "6cbaffdc",
   "metadata": {},
   "outputs": [
    {
     "data": {
      "text/plain": [
       "True"
      ]
     },
     "execution_count": 52,
     "metadata": {},
     "output_type": "execute_result"
    }
   ],
   "source": [
    "cv2.imwrite('test.png',test[0])"
   ]
  },
  {
   "cell_type": "code",
   "execution_count": null,
   "id": "2937895c",
   "metadata": {},
   "outputs": [],
   "source": []
  }
 ],
 "metadata": {
  "kernelspec": {
   "display_name": "Python 3.8.9 64-bit ('python-env': venv)",
   "language": "python",
   "name": "python38964bitpythonenvvenv856f2818767e47d79b2765e806dc7d5d"
  },
  "language_info": {
   "codemirror_mode": {
    "name": "ipython",
    "version": 3
   },
   "file_extension": ".py",
   "mimetype": "text/x-python",
   "name": "python",
   "nbconvert_exporter": "python",
   "pygments_lexer": "ipython3",
   "version": "3.8.9"
  }
 },
 "nbformat": 4,
 "nbformat_minor": 5
}

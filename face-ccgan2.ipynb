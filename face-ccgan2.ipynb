{
 "cells": [
  {
   "cell_type": "code",
   "execution_count": 1,
   "id": "4282a3dd",
   "metadata": {},
   "outputs": [],
   "source": [
    "import dlib\n",
    "from imutils import face_utils\n",
    "import cv2\n",
    "import numpy as np"
   ]
  },
  {
   "cell_type": "code",
   "execution_count": 2,
   "id": "333e6a81",
   "metadata": {},
   "outputs": [],
   "source": [
    "img = cv2.imread(r\"C:\\Users\\aaa\\Documents\\lfw\\lfw\\Aaron_Eckhart\\Aaron_Eckhart_0001.jpg\")"
   ]
  },
  {
   "cell_type": "code",
   "execution_count": 26,
   "id": "7148a0ea",
   "metadata": {},
   "outputs": [],
   "source": [
    "class FaceEditor:\n",
    "    mask_idx = [3,30,15,14,13,12,11,10,9,8,7,6,5,4,3]\n",
    "    def __init__(self):\n",
    "        self.face_detactor = dlib.get_frontal_face_detector()\n",
    "        self.face_predictor = dlib.shape_predictor(\"shape_predictor_68_face_landmarks.dat\")\n",
    "    def face_extraction(self,img):\n",
    "        #入力画像から顔を検出し配列で返す\n",
    "        faces = self.face_detactor(img)\n",
    "        out = []\n",
    "        for face in faces:\n",
    "            print(face.top(),face.bottom(),face.left(),face.right())\n",
    "            out.append(img[face.top():face.bottom()+1,face.left():face.right()+1])\n",
    "        return out\n",
    "    def clip_mouth(self,img):\n",
    "        #顔から、口部分を塗りつぶし、塗りつぶした部分を1にした配列を返す\n",
    "        landmark = self.face_predictor(img, dlib.rectangle(0,0,img.shape[0],img.shape[1]))\n",
    "        landmark = face_utils.shape_to_np(landmark)\n",
    "        mask_points = np.array(landmark[self.mask_idx]).reshape((-1,1,2)).astype(np.int32)\n",
    "        cv2.fillPoly(img, [mask_points] ,(255,255,255))\n",
    "        \n",
    "        template = np.zeros((img.shape[0], img.shape[1]))\n",
    "        template = cv2.fillPoly(template, [mask_points] ,1)\n",
    "        return template\n",
    "    def combine(self, generated_img, original_img, template):\n",
    "        #口部分を保管した画像の口の部分だけを元の画像に合成する\n",
    "        for i in range(template.shape[0]):\n",
    "            for j in range(template.shape[1]):\n",
    "                if(template[i][j] == 0):\n",
    "                    generated_img[i][j][0] = original_img[i][j][0]\n",
    "                    generated_img[i][j][1] = original_img[i][j][1]\n",
    "                    generated_img[i][j][2] = original_img[i][j][2]\n",
    "    def show(self,img):\n",
    "        cv2.imshow('tmp',img)\n",
    "        cv2.waitKey(0)\n",
    "        cv2.destroyAllWindows()\n",
    "    def save(self, img):\n",
    "        cv2.imwrite('tmp.png',img)\n",
    "        \n",
    "        \n",
    "        "
   ]
  },
  {
   "cell_type": "code",
   "execution_count": 27,
   "id": "399b9f4d",
   "metadata": {},
   "outputs": [
    {
     "name": "stdout",
     "output_type": "stream",
     "text": [
      "89 192 77 181\n"
     ]
    }
   ],
   "source": [
    "raw_img = cv2.imread(r\"C:\\Users\\aaa\\Documents\\lfw\\lfw\\Aaron_Eckhart_0001.jpg\")\n",
    "aaa = FaceEditor()\n",
    "original = aaa.face_extraction(raw_img)[0]\n",
    "generated = np.copy(original)\n",
    "template = aaa.clip_mouth(generated)\n",
    "#aaa.save(img)"
   ]
  },
  {
   "cell_type": "code",
   "execution_count": 24,
   "id": "088a0371",
   "metadata": {},
   "outputs": [],
   "source": [
    "aaa.combine(generated, original, template)"
   ]
  },
  {
   "cell_type": "code",
   "execution_count": 51,
   "id": "c94883de",
   "metadata": {},
   "outputs": [],
   "source": [
    "cv2.imshow('tmp',test[0])\n",
    "cv2.waitKey(0)\n",
    "cv2.destroyAllWindows()"
   ]
  },
  {
   "cell_type": "code",
   "execution_count": 52,
   "id": "6cbaffdc",
   "metadata": {},
   "outputs": [
    {
     "data": {
      "text/plain": [
       "True"
      ]
     },
     "execution_count": 52,
     "metadata": {},
     "output_type": "execute_result"
    }
   ],
   "source": []
  },
  {
   "cell_type": "code",
   "execution_count": null,
   "id": "2937895c",
   "metadata": {},
   "outputs": [],
   "source": []
  }
 ],
 "metadata": {
  "kernelspec": {
   "display_name": "Python 3.8.9 64-bit ('python-env': venv)",
   "language": "python",
   "name": "python38964bitpythonenvvenv856f2818767e47d79b2765e806dc7d5d"
  },
  "language_info": {
   "codemirror_mode": {
    "name": "ipython",
    "version": 3
   },
   "file_extension": ".py",
   "mimetype": "text/x-python",
   "name": "python",
   "nbconvert_exporter": "python",
   "pygments_lexer": "ipython3",
   "version": "3.8.10"
  }
 },
 "nbformat": 4,
 "nbformat_minor": 5
}

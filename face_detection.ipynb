{
 "cells": [
  {
   "cell_type": "code",
   "execution_count": 30,
   "id": "0057ce2b",
   "metadata": {},
   "outputs": [],
   "source": [
    "import dlib\n",
    "from imutils import face_utils\n",
    "import cv2"
   ]
  },
  {
   "cell_type": "code",
   "execution_count": 31,
   "id": "420abda7",
   "metadata": {},
   "outputs": [],
   "source": [
    "img = cv2.imread(r\"C:\\Users\\aaa\\Downloads\\lfw\\lfw\\Aaron_Eckhart\\Aaron_Eckhart_0001.jpg\")"
   ]
  },
  {
   "cell_type": "code",
   "execution_count": 32,
   "id": "42791cc4",
   "metadata": {},
   "outputs": [],
   "source": [
    "face_detactor = dlib.get_frontal_face_detector()\n",
    "face_predictor = dlib.shape_predictor(\"shape_predictor_68_face_landmarks.dat\")\n",
    "faces = face_detactor(img)\n",
    "face = faces[0]"
   ]
  },
  {
   "cell_type": "code",
   "execution_count": 33,
   "id": "61fabe36",
   "metadata": {},
   "outputs": [],
   "source": [
    "for face in faces:\n",
    "    img = cv2.rectangle(img, (face.left(),face.top()) , (face.right(), face.bottom()),(255,0,0),2)\n",
    "    landmark = face_predictor(img, face)\n",
    "    landmark = imutils.face_utils.shape_to_np(landmark)\n",
    "    for (i, (x, y)) in enumerate(landmark):\n",
    "        cv2.circle(img, (x, y), 1, (255, 0, 0), -1)\n",
    "        \n",
    "#結果表示\n",
    "cv2.imshow('sample', img)\n",
    "cv2.waitKey(0)\n",
    "cv2.destroyAllWindows()"
   ]
  },
  {
   "cell_type": "code",
   "execution_count": null,
   "id": "fda7f5ef",
   "metadata": {},
   "outputs": [],
   "source": []
  }
 ],
 "metadata": {
  "kernelspec": {
   "display_name": "Python 3",
   "language": "python",
   "name": "python3"
  },
  "language_info": {
   "codemirror_mode": {
    "name": "ipython",
    "version": 3
   },
   "file_extension": ".py",
   "mimetype": "text/x-python",
   "name": "python",
   "nbconvert_exporter": "python",
   "pygments_lexer": "ipython3",
   "version": "3.8.9"
  }
 },
 "nbformat": 4,
 "nbformat_minor": 5
}

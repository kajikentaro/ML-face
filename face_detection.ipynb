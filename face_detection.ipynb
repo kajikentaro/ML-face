{
 "cells": [
  {
   "cell_type": "code",
   "execution_count": 1,
   "id": "0057ce2b",
   "metadata": {},
   "outputs": [],
   "source": [
    "import dlib\n",
    "import cv2"
   ]
  },
  {
   "cell_type": "code",
   "execution_count": 2,
   "id": "420abda7",
   "metadata": {},
   "outputs": [],
   "source": [
    "img = cv2.imread(r\"C:\\Users\\aaa\\Downloads\\lfw\\lfw\\Aaron_Eckhart\\Aaron_Eckhart_0001.jpg\")"
   ]
  },
  {
   "cell_type": "code",
   "execution_count": 3,
   "id": "42791cc4",
   "metadata": {},
   "outputs": [
    {
     "name": "stdout",
     "output_type": "stream",
     "text": [
      "rectangles[[(77, 89) (181, 192)]]\n"
     ]
    }
   ],
   "source": [
    "face_detactor = dlib.get_frontal_face_detector()\n",
    "faces = face_detactor(img)\n",
    "print(faces)"
   ]
  },
  {
   "cell_type": "code",
   "execution_count": 4,
   "id": "e8a41620",
   "metadata": {},
   "outputs": [],
   "source": [
    "img_faced = cv2.rectangle(img, (faces[0].left(), faces[0].top()), (faces[0].right(), faces[0].bottom()),(255,0,0),2)"
   ]
  },
  {
   "cell_type": "code",
   "execution_count": 5,
   "id": "aae1d27d",
   "metadata": {},
   "outputs": [
    {
     "data": {
      "text/plain": [
       "-1"
      ]
     },
     "execution_count": 5,
     "metadata": {},
     "output_type": "execute_result"
    }
   ],
   "source": [
    "cv2.imshow(\"test\",img)\n",
    "cv2.waitKey(0)"
   ]
  },
  {
   "cell_type": "code",
   "execution_count": 10,
   "id": "ef7ea0b6",
   "metadata": {},
   "outputs": [
    {
     "name": "stdout",
     "output_type": "stream",
     "text": [
      "None\n"
     ]
    }
   ],
   "source": []
  },
  {
   "cell_type": "code",
   "execution_count": null,
   "id": "9608b55a",
   "metadata": {},
   "outputs": [],
   "source": []
  }
 ],
 "metadata": {
  "kernelspec": {
   "display_name": "Python 3",
   "language": "python",
   "name": "python3"
  },
  "language_info": {
   "codemirror_mode": {
    "name": "ipython",
    "version": 3
   },
   "file_extension": ".py",
   "mimetype": "text/x-python",
   "name": "python",
   "nbconvert_exporter": "python",
   "pygments_lexer": "ipython3",
   "version": "3.8.9"
  }
 },
 "nbformat": 4,
 "nbformat_minor": 5
}

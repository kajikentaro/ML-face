{
 "cells": [
  {
   "cell_type": "code",
   "execution_count": 2,
   "id": "0057ce2b",
   "metadata": {},
   "outputs": [],
   "source": [
    "import dlib\n",
    "from imutils import face_utils\n",
    "import cv2"
   ]
  },
  {
   "cell_type": "code",
   "execution_count": 4,
   "id": "420abda7",
   "metadata": {},
   "outputs": [],
   "source": [
    "img = cv2.imread(r\"C:\\Users\\aaa\\Documents\\lfw\\lfw\\Aaron_Eckhart_0001.jpg\")"
   ]
  },
  {
   "cell_type": "code",
   "execution_count": 5,
   "id": "42791cc4",
   "metadata": {},
   "outputs": [],
   "source": [
    "face_detactor = dlib.get_frontal_face_detector()\n",
    "face_predictor = dlib.shape_predictor(\"shape_predictor_68_face_landmarks.dat\")\n",
    "faces = face_detactor(img)\n",
    "face = faces[0]"
   ]
  },
  {
   "cell_type": "code",
   "execution_count": 7,
   "id": "61fabe36",
   "metadata": {},
   "outputs": [],
   "source": [
    "for face in faces:\n",
    "    img = cv2.rectangle(img, (face.left(),face.top()) , (face.right(), face.bottom()),(255,0,0),2)\n",
    "    landmark = face_predictor(img, face)\n",
    "    landmark = face_utils.shape_to_np(landmark)\n",
    "    for (i, (x, y)) in enumerate(landmark):\n",
    "        cv2.circle(img, (x, y), 1, (255, 0, 0), -1)\n",
    "        \n",
    "#結果表示\n",
    "cv2.imshow('sample', img)\n",
    "cv2.waitKey(0)\n",
    "cv2.destroyAllWindows()"
   ]
  },
  {
   "cell_type": "code",
   "execution_count": 15,
   "id": "fda7f5ef",
   "metadata": {},
   "outputs": [
    {
     "name": "stdout",
     "output_type": "stream",
     "text": [
      "[(77, 89) (181, 192)]\n",
      "77\n",
      "89\n",
      "181\n",
      "192\n"
     ]
    }
   ],
   "source": [
    "print(face)\n",
    "print(face.left())\n",
    "print(face.top())\n",
    "print(face.right())\n",
    "print(face.bottom())"
   ]
  },
  {
   "cell_type": "code",
   "execution_count": 17,
   "id": "e38add4e",
   "metadata": {},
   "outputs": [],
   "source": [
    "a = dlib.rectangle(77,89,181,192)"
   ]
  },
  {
   "cell_type": "code",
   "execution_count": 18,
   "id": "c45db34f",
   "metadata": {},
   "outputs": [
    {
     "name": "stdout",
     "output_type": "stream",
     "text": [
      "[(77, 89) (181, 192)]\n"
     ]
    }
   ],
   "source": [
    "print(a)"
   ]
  },
  {
   "cell_type": "code",
   "execution_count": 21,
   "id": "f103c3ae",
   "metadata": {},
   "outputs": [],
   "source": [
    "import numpy as np\n",
    "test = np.array([])"
   ]
  },
  {
   "cell_type": "code",
   "execution_count": 22,
   "id": "0ce35da6",
   "metadata": {},
   "outputs": [
    {
     "data": {
      "text/plain": [
       "array([53.])"
      ]
     },
     "execution_count": 22,
     "metadata": {},
     "output_type": "execute_result"
    }
   ],
   "source": [
    "np.append(test,53)\n"
   ]
  },
  {
   "cell_type": "code",
   "execution_count": 24,
   "id": "7c7c4ed7",
   "metadata": {},
   "outputs": [],
   "source": [
    "a = []\n",
    "a.append([32543,43242])"
   ]
  },
  {
   "cell_type": "code",
   "execution_count": 25,
   "id": "aaed98ce",
   "metadata": {},
   "outputs": [
    {
     "data": {
      "text/plain": [
       "[[32543, 43242]]"
      ]
     },
     "execution_count": 25,
     "metadata": {},
     "output_type": "execute_result"
    }
   ],
   "source": [
    "a"
   ]
  },
  {
   "cell_type": "code",
   "execution_count": null,
   "id": "e603499a",
   "metadata": {},
   "outputs": [],
   "source": []
  }
 ],
 "metadata": {
  "kernelspec": {
   "display_name": "Python 3",
   "language": "python",
   "name": "python3"
  },
  "language_info": {
   "codemirror_mode": {
    "name": "ipython",
    "version": 3
   },
   "file_extension": ".py",
   "mimetype": "text/x-python",
   "name": "python",
   "nbconvert_exporter": "python",
   "pygments_lexer": "ipython3",
   "version": "3.8.9"
  }
 },
 "nbformat": 4,
 "nbformat_minor": 5
}
